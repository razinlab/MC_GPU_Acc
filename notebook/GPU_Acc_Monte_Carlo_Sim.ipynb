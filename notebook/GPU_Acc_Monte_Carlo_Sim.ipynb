{
  "nbformat": 4,
  "nbformat_minor": 0,
  "metadata": {
    "colab": {
      "provenance": [],
      "gpuType": "L4",
      "machine_shape": "hm"
    },
    "kernelspec": {
      "name": "python3",
      "display_name": "Python 3"
    },
    "language_info": {
      "name": "python"
    },
    "accelerator": "GPU"
  },
  "cells": [
    {
      "cell_type": "markdown",
      "source": [
        "# GPU Accelerated Options Pricing via Monte Carlo Simulation and Deep Learning\n",
        "---\n",
        "This will be a project to price European-style options using a few different methods:\n",
        "\n",
        "1. A baseline using the Black-Scholes formula\n",
        "2. A monte carlo simulation ran on CPU\n",
        "3. The simulation accelerated on GPU\n",
        "4. A neural network surrogate model trained on the simulations, prioritizing both inference speed and accuracy.\n"
      ],
      "metadata": {
        "id": "ESnh882Ny7_n"
      }
    },
    {
      "cell_type": "markdown",
      "source": [
        "# Black-Scholes Baseline"
      ],
      "metadata": {
        "id": "GQEmvVO419n6"
      }
    },
    {
      "cell_type": "code",
      "execution_count": 17,
      "metadata": {
        "id": "VZMPVX1ixcQI"
      },
      "outputs": [],
      "source": [
        "import numpy as np\n",
        "from scipy.stats import norm\n",
        "import time\n",
        "import torch\n",
        "import torch.nn as nn"
      ]
    },
    {
      "cell_type": "code",
      "source": [
        "s = 100\n",
        "k = 105\n",
        "t = 1\n",
        "r = 0.05\n",
        "sigma = 0.2"
      ],
      "metadata": {
        "id": "YOMvpEUd73vh"
      },
      "execution_count": 2,
      "outputs": []
    },
    {
      "cell_type": "code",
      "source": [
        "def black_scholes(s, k, r, t, sigma):\n",
        "  # s is the sport price of an asset\n",
        "  # k is the strike price\n",
        "  # r is the risk-free interest rate\n",
        "  # t is the time to maturity\n",
        "  # sigma is the volatility of the asset though,\n",
        "  # this can not be directly observed in the market\n",
        "  d1 = (np.log(s/k) + (r + (sigma**2/2)) * t) / (sigma * np.sqrt(t))\n",
        "  d2 = d1 - sigma * np.sqrt(t)\n",
        "\n",
        "  call_price = norm.cdf(d1) * s - norm.cdf(d2) * k * np.exp((-r)*t)\n",
        "  return call_price\n",
        "\n",
        "print(black_scholes(s=s, k=k, t=t, r=r, sigma=sigma))"
      ],
      "metadata": {
        "id": "F9Tkv6mq_6Z3",
        "colab": {
          "base_uri": "https://localhost:8080/"
        },
        "outputId": "aae6e743-1bba-4ca1-87dd-80301675ba3a"
      },
      "execution_count": 3,
      "outputs": [
        {
          "output_type": "stream",
          "name": "stdout",
          "text": [
            "8.021352235143176\n"
          ]
        }
      ]
    },
    {
      "cell_type": "markdown",
      "source": [
        "# Monte Carlo Simulation"
      ],
      "metadata": {
        "id": "ZsxBTwkPHFZF"
      }
    },
    {
      "cell_type": "code",
      "source": [
        "def simulate_path(s, t, r, sigma):\n",
        "    # There are ~252 trading days in a year\n",
        "    steps = 252 * t\n",
        "    dt = 1.0 / 252\n",
        "\n",
        "    price_path = [s]\n",
        "    current_price = s\n",
        "\n",
        "    for _ in range(steps):\n",
        "        # Generate a random shock\n",
        "        z = np.random.randn()\n",
        "\n",
        "        next_price = current_price * np.exp((r - sigma**2/2) * dt + sigma * np.sqrt(dt) * z)\n",
        "\n",
        "        price_path.append(next_price)\n",
        "        current_price = next_price\n",
        "\n",
        "    return price_path"
      ],
      "metadata": {
        "id": "3C7-6TodEZLJ"
      },
      "execution_count": 4,
      "outputs": []
    },
    {
      "cell_type": "code",
      "source": [
        "def monte_carlo_price(s, k, t, r, sigma, simulations=10000):\n",
        "    payoffs = []\n",
        "    start_time = time.perf_counter()\n",
        "    for _ in range(simulations):\n",
        "        # Simulate one path and get the final price\n",
        "        path = simulate_path(s, t, r, sigma)\n",
        "        final_price = path[-1]\n",
        "\n",
        "        # Calculate the payoff for this path\n",
        "        payoff = np.maximum(final_price - k, 0)\n",
        "\n",
        "        payoffs.append(payoff)\n",
        "    end_time = time.perf_counter()\n",
        "    exec_time = end_time - start_time\n",
        "    print(f\"Python CPU time: {exec_time:.4f} seconds\")\n",
        "    avg_payoff = np.mean(payoffs)\n",
        "    option_price = avg_payoff * np.exp((-r)*t)\n",
        "    return option_price"
      ],
      "metadata": {
        "id": "Mph6el71isyB"
      },
      "execution_count": 5,
      "outputs": []
    },
    {
      "cell_type": "code",
      "source": [
        "print(\"Option price: \",  monte_carlo_price(s=s, k=k, t=t, r=r, sigma=sigma))"
      ],
      "metadata": {
        "id": "7_TooJra8Wwg",
        "colab": {
          "base_uri": "https://localhost:8080/"
        },
        "outputId": "1a61d5e7-eb73-4b93-c362-8c6eb9d1a843"
      },
      "execution_count": 6,
      "outputs": [
        {
          "output_type": "stream",
          "name": "stdout",
          "text": [
            "Python CPU time: 8.3630 seconds\n",
            "Option price:  8.15449460808497\n"
          ]
        }
      ]
    },
    {
      "cell_type": "markdown",
      "source": [
        "# Monte Carlo w/ GPU Acceleration"
      ],
      "metadata": {
        "id": "w2Mn1EV7-dwk"
      }
    },
    {
      "cell_type": "code",
      "source": [
        "!pip install pybind11 nvcc4jupyter"
      ],
      "metadata": {
        "colab": {
          "base_uri": "https://localhost:8080/"
        },
        "id": "z3xhEsA8aoR2",
        "outputId": "a464aaa8-c8f5-4379-fc0d-f93b31a204af"
      },
      "execution_count": 7,
      "outputs": [
        {
          "output_type": "stream",
          "name": "stdout",
          "text": [
            "Requirement already satisfied: pybind11 in /usr/local/lib/python3.12/dist-packages (3.0.1)\n",
            "Requirement already satisfied: nvcc4jupyter in /usr/local/lib/python3.12/dist-packages (1.2.1)\n"
          ]
        }
      ]
    },
    {
      "cell_type": "code",
      "source": [
        "%%writefile mc.cu\n",
        "#include <iostream>\n",
        "#include <stdio.h>\n",
        "#include <cmath>\n",
        "#include <curand_kernel.h>\n",
        "\n",
        "__global__ void monte_carlo_kernel(float *payoffs, int simulations, float s, float k, float t, float r, float sigma){\n",
        "    int tid = blockIdx.x * blockDim.x + threadIdx.x;\n",
        "\n",
        "    if (tid < simulations){\n",
        "        int steps = max(1, (int)lrintf(252.0 * t));\n",
        "        float dt = t / steps;\n",
        "        float current_price = s;\n",
        "\n",
        "        curandState_t state;\n",
        "        curand_init(tid, 0, 0, &state);\n",
        "\n",
        "        for(int i=0; i<steps; i++){\n",
        "            float z = curand_normal(&state);\n",
        "            float next_price = current_price * expf((r - (sigma * sigma)/2) * dt + sigma * sqrtf(dt) * z);\n",
        "            current_price = next_price;\n",
        "        }\n",
        "\n",
        "        payoffs[tid] = fmaxf(current_price - k, 0);\n",
        "    }\n",
        "}\n",
        "\n",
        "int main(){\n",
        "    int simulations = pow(2,20);\n",
        "    float s = 100.0f, k = 105.0f, t = 1.0f, r = 0.05f, sigma = 0.2f;\n",
        "\n",
        "    // Allocate GPU memory\n",
        "    float *g_payoffs;\n",
        "    cudaMalloc((void**)&g_payoffs, simulations * sizeof(float));\n",
        "\n",
        "    // Kernel default config\n",
        "    int threads_per_block = 256;\n",
        "    int num_blocks = (simulations + threads_per_block - 1) / threads_per_block;\n",
        "\n",
        "    cudaEvent_t start, stop;\n",
        "    cudaEventCreate(&start);\n",
        "    cudaEventCreate(&stop);\n",
        "\n",
        "    cudaEventRecord(start);\n",
        "\n",
        "    monte_carlo_kernel<<<num_blocks, threads_per_block>>>(g_payoffs, simulations, s, k, t, r, sigma);\n",
        "\n",
        "    cudaEventRecord(stop);\n",
        "    cudaEventSynchronize(stop);\n",
        "    float ms = 0;\n",
        "    cudaEventElapsedTime(&ms, start, stop);\n",
        "    std::cout << \"GPU Kernel Time: \" << ms / 1000 << \" seconds\" <<std::endl;\n",
        "    // Copy results over to CPU\n",
        "    float *c_payoffs = new float[simulations];\n",
        "    cudaMemcpy(c_payoffs, g_payoffs, simulations * sizeof(float), cudaMemcpyDeviceToHost);\n",
        "\n",
        "    double sum = 0.0;\n",
        "    for (int i = 0; i < simulations; i++){\n",
        "        sum += c_payoffs[i];\n",
        "    }\n",
        "    double avg_payoff = sum / simulations;\n",
        "    double option_price = avg_payoff * expf(-r * t);\n",
        "\n",
        "    std::cout<<\"Option Price (GPU): \" << option_price;\n",
        "\n",
        "    delete[] c_payoffs;\n",
        "    cudaFree(g_payoffs);\n",
        "\n",
        "}"
      ],
      "metadata": {
        "colab": {
          "base_uri": "https://localhost:8080/"
        },
        "id": "oBZncEJG8h_l",
        "outputId": "04dcbdea-34af-42e2-b8b0-bde6afdec5f0"
      },
      "execution_count": 8,
      "outputs": [
        {
          "output_type": "stream",
          "name": "stdout",
          "text": [
            "Overwriting mc.cu\n"
          ]
        }
      ]
    },
    {
      "cell_type": "code",
      "source": [
        "!nvcc -arch=sm_89 mc.cu -o mc && ./mc"
      ],
      "metadata": {
        "id": "DTHy2YvlkbQl",
        "colab": {
          "base_uri": "https://localhost:8080/"
        },
        "outputId": "0ab58dd8-bc59-4aad-c272-2cf4297bdd29"
      },
      "execution_count": 9,
      "outputs": [
        {
          "output_type": "stream",
          "name": "stdout",
          "text": [
            "GPU Kernel Time: 0.00143974 seconds\n",
            "Option Price (GPU): 8.01112"
          ]
        }
      ]
    },
    {
      "cell_type": "markdown",
      "source": [
        "The CPU ran 10,000 simulations in about 8.25 seconds\n",
        "\n",
        "The GPU ran 1,048,576 simulations in about 1.4 milliseconds\n",
        "\n",
        "10,000/8.25 = about 1,212 simulations a second\n",
        "1,048,576/0.0014 = about 748 million\n",
        "\n",
        "The speedup was about 600,000x!"
      ],
      "metadata": {
        "id": "mRhqWyRw8EKm"
      }
    },
    {
      "cell_type": "code",
      "source": [
        "%%writefile monte_carlo_pybind.cu\n",
        "#include <pybind11/pybind11.h>\n",
        "#include <cuda_runtime.h>\n",
        "#include <curand_kernel.h>\n",
        "#include <cmath>\n",
        "\n",
        "namespace py = pybind11;\n",
        "\n",
        "__global__ void monte_carlo_kernel(float *payoffs, int simulations, float s, float k, float t, float r, float sigma){\n",
        "    int tid = blockIdx.x * blockDim.x + threadIdx.x;\n",
        "    if (tid < simulations){\n",
        "        curandState_t state;\n",
        "        curand_init(tid, 0, 0, &state);\n",
        "\n",
        "        int steps = max(1, (int)lrintf(252.0f * t));\n",
        "        float dt = t / steps;\n",
        "        float current_price = s;\n",
        "\n",
        "        for(int i = 0; i < steps; i++){\n",
        "            float z = curand_normal(&state);\n",
        "            float next_price = current_price * expf((r - (sigma * sigma)/2.0f) * dt + sigma * sqrtf(dt) * z);\n",
        "            current_price = next_price;\n",
        "        }\n",
        "        payoffs[tid] = fmaxf(current_price - k, 0.0f);\n",
        "    }\n",
        "}\n",
        "\n",
        "double monte_carlo_cuda_py(float s, float k, float t, float r, float sigma, int simulations) {\n",
        "    float *d_payoffs;\n",
        "    cudaMalloc((void**)&d_payoffs, simulations * sizeof(float));\n",
        "\n",
        "    int threadsPerBlock = 256;\n",
        "    int numBlocks = (simulations + threadsPerBlock - 1) / threadsPerBlock;\n",
        "    monte_carlo_kernel<<<numBlocks, threadsPerBlock>>>(d_payoffs, simulations, s, k, t, r, sigma);\n",
        "    cudaDeviceSynchronize();\n",
        "\n",
        "    float *h_payoffs = new float[simulations];\n",
        "    cudaMemcpy(h_payoffs, d_payoffs, simulations * sizeof(float), cudaMemcpyDeviceToHost);\n",
        "\n",
        "    double sum = 0.0;\n",
        "    for (int i = 0; i < simulations; i++) {\n",
        "        sum += h_payoffs[i];\n",
        "    }\n",
        "    double avg_payoff = sum / simulations;\n",
        "    double option_price = avg_payoff * exp(-r * t);\n",
        "\n",
        "    delete[] h_payoffs;\n",
        "    cudaFree(d_payoffs);\n",
        "\n",
        "    return option_price;\n",
        "}\n",
        "\n",
        "PYBIND11_MODULE(monte_carlo_pybind, m) {\n",
        "    m.def(\"price_option\", &monte_carlo_cuda_py, \"CUDA-accelerated Monte Carlo Option Pricer\");\n",
        "}"
      ],
      "metadata": {
        "colab": {
          "base_uri": "https://localhost:8080/"
        },
        "id": "0Bh1EQHNaRoN",
        "outputId": "52f3f674-d7cb-44c7-8e18-524525bf17a8"
      },
      "execution_count": 10,
      "outputs": [
        {
          "output_type": "stream",
          "name": "stdout",
          "text": [
            "Overwriting monte_carlo_pybind.cu\n"
          ]
        }
      ]
    },
    {
      "cell_type": "code",
      "source": [
        "!nvcc -O3 -shared -std=c++20 -Xcompiler -fPIC -arch=sm_89 `python3 -m pybind11 --includes` monte_carlo_pybind.cu -o monte_carlo_pybind`python3-config --extension-suffix`"
      ],
      "metadata": {
        "id": "4Iv3blpYahuq"
      },
      "execution_count": 11,
      "outputs": []
    },
    {
      "cell_type": "markdown",
      "source": [
        "# Surrogate Neural Network"
      ],
      "metadata": {
        "id": "jBPJHec4FXSm"
      }
    },
    {
      "cell_type": "code",
      "source": [
        "import importlib.util, sys\n",
        "\n",
        "spec = importlib.util.spec_from_file_location(\"monte_carlo_pybind\", \"./monte_carlo_pybind.cpython-310-x86_64-linux-gnu.so\")\n",
        "mod = importlib.util.module_from_spec(spec); spec.loader.exec_module(mod)\n",
        "\n",
        "monte_carlo_pybind = mod"
      ],
      "metadata": {
        "id": "J5vBZ1gSbCem"
      },
      "execution_count": 12,
      "outputs": []
    },
    {
      "cell_type": "code",
      "source": [
        "import time\n",
        "\n",
        "start_time = time.perf_counter()\n",
        "gpu_price = monte_carlo_pybind.price_option(100.0, 105.0, 1.0, 0.05, 0.2, 262_144)\n",
        "end_time = time.perf_counter()\n",
        "\n",
        "print(f\"Option Price (GPU via Pybind11): {gpu_price}\")\n",
        "print(f\"Execution Time: {end_time - start_time:.4f} seconds\")"
      ],
      "metadata": {
        "id": "Q8Cvxcs2Owwl",
        "colab": {
          "base_uri": "https://localhost:8080/"
        },
        "outputId": "700f9cca-aa55-4ccc-dc84-398fe6c8ba00"
      },
      "execution_count": 13,
      "outputs": [
        {
          "output_type": "stream",
          "name": "stdout",
          "text": [
            "Option Price (GPU via Pybind11): 8.038570376207446\n",
            "Execution Time: 0.1038 seconds\n"
          ]
        }
      ]
    },
    {
      "cell_type": "code",
      "source": [
        "BUCKET_DEFINITIONS = {\n",
        "    \"micro\": {\n",
        "        \"s_range\": (0.5, 5.0),\n",
        "        \"moneyness\": (0.5, 2.0),\n",
        "        \"t_choices\": [1/252, 5/252, 10/252, 21/252, 63/252, 126/252, 252/252],\n",
        "        \"r_choices\": (0.02, 0.05),\n",
        "        \"sigma_range\": (0.40, 1.20),\n",
        "    },\n",
        "    \"low\": {\n",
        "        \"s_range\": (5.0, 20.0),\n",
        "        \"moneyness\": (0.5, 2.0),\n",
        "        \"t_choices\": [1/252, 5/252, 10/252, 21/252, 63/252, 126/252, 252/252],\n",
        "        \"r_choices\": (0.02, 0.05),\n",
        "        \"sigma_range\": (0.35, 0.90),\n",
        "    },\n",
        "    \"upper_mid\": {\n",
        "        \"s_range\": (20.0, 50.0),\n",
        "        \"moneyness\": (0.6, 2.0),\n",
        "        \"t_choices\": [1/252, 5/252, 10/252, 21/252, 63/252, 126/252, 252/252],\n",
        "        \"r_choices\": (0.02, 0.05),\n",
        "        \"sigma_range\": (0.20, 0.60),\n",
        "    },\n",
        "    \"mid\": {\n",
        "        \"s_range\": (50.0, 150.0),\n",
        "        \"moneyness\": (0.6, 2.0),\n",
        "        \"t_choices\": [1/252, 5/252, 10/252, 21/252, 63/252, 126/252, 252/252],\n",
        "        \"r_choices\": (0.02, 0.05),\n",
        "        \"sigma_range\": (0.20, 0.60),\n",
        "    },\n",
        "    \"high\": {\n",
        "        \"s_range\": (150.0, 500.0),\n",
        "        \"moneyness\": (0.6, 1.5),\n",
        "        \"t_choices\": [1/252, 5/252, 10/252, 21/252, 63/252, 126/252, 252/252],\n",
        "        \"r_choices\": (0.02, 0.05),\n",
        "        \"sigma_range\": (0.15, 0.45),\n",
        "    },\n",
        "    \"mega\": {\n",
        "        \"s_range\": (500.0, 2000.0),\n",
        "        \"moneyness\": (0.7, 1.3),\n",
        "        \"t_choices\": [1/252, 5/252, 10/252, 21/252, 63/252, 126/252, 252/252],\n",
        "        \"r_choices\": (0.02, 0.05),\n",
        "        \"sigma_range\": (0.15, 0.45),\n",
        "    },\n",
        "}\n"
      ],
      "metadata": {
        "id": "FfNciwiLJ5Gt"
      },
      "execution_count": 14,
      "outputs": []
    },
    {
      "cell_type": "code",
      "source": [
        "def generate_sample(bucket_name):\n",
        "  rules = BUCKET_DEFINITIONS[bucket_name]\n",
        "\n",
        "  s_range = rules['s_range']\n",
        "  moneyness_range = rules['moneyness']\n",
        "  t_choices = rules['t_choices']\n",
        "  r_choices = rules['r_choices']\n",
        "  sigma_range = rules['sigma_range']\n",
        "\n",
        "  s = np.random.uniform(*s_range)\n",
        "  moneyness = np.random.uniform(*moneyness_range)\n",
        "  k = s * moneyness\n",
        "\n",
        "  t = np.random.choice(t_choices)\n",
        "  # Fix: Generate a single float for r within the range\n",
        "  r = np.random.uniform(*r_choices)\n",
        "\n",
        "\n",
        "  sigma = np.random.uniform(*sigma_range)\n",
        "\n",
        "  return s, k, t, r, sigma"
      ],
      "metadata": {
        "id": "RLTGVJis9BRf"
      },
      "execution_count": 15,
      "outputs": []
    },
    {
      "cell_type": "code",
      "source": [
        "num_samples = 1_500_000\n",
        "x = []\n",
        "y = []\n",
        "\n",
        "bucket_names = list(BUCKET_DEFINITIONS.keys())\n",
        "print(\"Starting sample generation\")\n",
        "for i in range(num_samples):\n",
        "  name = np.random.choice(bucket_names)\n",
        "  s, k, t, r, sigma = generate_sample(name)\n",
        "  price =  monte_carlo_pybind.price_option(s, k ,t, r, sigma, 262_144)\n",
        "  x.append([s, k, t, r, sigma])\n",
        "  y.append(price)\n",
        "\n",
        "  if(i+1)%100_000 == 0:\n",
        "    print(f\"Generated {i + 1}/{num_samples} samples\")\n",
        "\n",
        "x_set = np.array(x)\n",
        "y_set = np.array(y)\n",
        "np.save(\"x_set.npy\", x_set)\n",
        "np.save(\"y_set.npy\", y_set)\n",
        "\n",
        "print(f\"Successfully generated {len(x_set)} samples.\")"
      ],
      "metadata": {
        "colab": {
          "base_uri": "https://localhost:8080/"
        },
        "id": "WZVorzQNcppr",
        "outputId": "aa2e4479-47aa-4eb4-e450-8a99028e5d98"
      },
      "execution_count": 16,
      "outputs": [
        {
          "output_type": "stream",
          "name": "stdout",
          "text": [
            "Starting sample generation\n",
            "Generated 100000/1500000 samples\n",
            "Generated 200000/1500000 samples\n",
            "Generated 300000/1500000 samples\n",
            "Generated 400000/1500000 samples\n",
            "Generated 500000/1500000 samples\n",
            "Generated 600000/1500000 samples\n",
            "Generated 700000/1500000 samples\n",
            "Generated 800000/1500000 samples\n",
            "Generated 900000/1500000 samples\n",
            "Generated 1000000/1500000 samples\n",
            "Generated 1100000/1500000 samples\n",
            "Generated 1200000/1500000 samples\n",
            "Generated 1300000/1500000 samples\n",
            "Generated 1400000/1500000 samples\n",
            "Generated 1500000/1500000 samples\n",
            "Successfully generated 1500000 samples.\n"
          ]
        }
      ]
    },
    {
      "cell_type": "code",
      "source": [
        "class OptionPricer(nn.Module):\n",
        "  def __init__(self):\n",
        "    super(OptionPricer, self).__init__()\n",
        "    self.layer1 = nn.Linear(5, 256)\n",
        "    self.activation1 = nn.ReLU()\n",
        "    self.layer2 = nn.Linear(256, 256)\n",
        "    self.activation2 = nn.ReLU()\n",
        "    self.layer3 = nn.Linear(256, 256)\n",
        "    self.activation3 = nn.ReLU()\n",
        "    self.output_layer = nn.Linear(256, 1)\n",
        "\n",
        "  def forward(self, x):\n",
        "    x = self.activation1(self.layer1(x))\n",
        "    x = self.activation2(self.layer2(x))\n",
        "    x = self.activation3(self.layer3(x))\n",
        "    x = self.output_layer(x)\n",
        "    return x"
      ],
      "metadata": {
        "id": "ejvgEejX0o8w"
      },
      "execution_count": 87,
      "outputs": []
    },
    {
      "cell_type": "code",
      "source": [
        "from sklearn.model_selection import train_test_split\n",
        "from torch.utils.data import TensorDataset, DataLoader\n",
        "from sklearn.preprocessing import StandardScaler\n",
        "\n",
        "\n",
        "print(\"Loading and preparing data...\")\n",
        "X_data = np.load(\"x_set.npy\")\n",
        "y_data = np.load(\"y_set.npy\").reshape(-1, 1) # Reshape for loss function\n",
        "\n",
        "X_tensor = torch.tensor(X_data, dtype=torch.float32)\n",
        "y_tensor = torch.tensor(y_data, dtype=torch.float32)\n",
        "\n",
        "X_train, X_test, y_train, y_test = train_test_split(X_tensor, y_tensor, test_size=0.15, random_state=42)\n",
        "\n",
        "from sklearn.preprocessing import StandardScaler\n",
        "\n",
        "\n",
        "scaler = StandardScaler()\n",
        "X_train_scaled = scaler.fit_transform(X_train)\n",
        "\n",
        "X_test_scaled = scaler.transform(X_test)\n",
        "\n",
        "X_train_tensor = torch.tensor(X_train_scaled, dtype=torch.float32)\n",
        "X_test_tensor = torch.tensor(X_test_scaled, dtype=torch.float32)\n",
        "\n",
        "train_dataset = TensorDataset(X_train_tensor, y_train)\n",
        "test_dataset = TensorDataset(X_test_tensor, y_test)\n",
        "train_loader = DataLoader(train_dataset, batch_size=1024, shuffle=True)\n",
        "test_loader = DataLoader(test_dataset, batch_size=1024, shuffle=False)\n",
        "print(\"Data is ready.\")\n",
        "\n",
        "model = OptionPricer()\n",
        "loss_fn = nn.MSELoss()\n",
        "optimizer = torch.optim.Adam(model.parameters(), lr=0.0001)"
      ],
      "metadata": {
        "colab": {
          "base_uri": "https://localhost:8080/"
        },
        "id": "BlqP-ign0VGu",
        "outputId": "cf7e98e0-2ed1-4d48-bdd5-80dc9a5d9baf"
      },
      "execution_count": 88,
      "outputs": [
        {
          "output_type": "stream",
          "name": "stdout",
          "text": [
            "Loading and preparing data...\n",
            "Data is ready.\n"
          ]
        }
      ]
    },
    {
      "cell_type": "code",
      "source": [
        "device = torch.device(\"cuda\" if torch.cuda.is_available() else \"cpu\")\n",
        "model.to(device)\n",
        "print(f\"Starting training on {device}...\")\n",
        "\n",
        "epochs = 100\n",
        "for epoch in range(epochs):\n",
        "    model.train()\n",
        "    for train_inputs, train_labels in train_loader:\n",
        "        train_inputs, train_labels = train_inputs.to(device), train_labels.to(device)\n",
        "\n",
        "        optimizer.zero_grad()\n",
        "\n",
        "        predictions = model(train_inputs)\n",
        "\n",
        "        loss = loss_fn(predictions, train_labels)\n",
        "\n",
        "        loss.backward()\n",
        "\n",
        "        optimizer.step()\n",
        "\n",
        "    model.eval()\n",
        "    test_loss = 0\n",
        "    with torch.no_grad():\n",
        "        for test_inputs, test_labels in test_loader:\n",
        "            test_inputs, test_labels = test_inputs.to(device), test_labels.to(device)\n",
        "            predictions = model(test_inputs)\n",
        "            test_loss += loss_fn(predictions, test_labels).item()\n",
        "\n",
        "    avg_test_loss = test_loss / len(test_loader)\n",
        "    print(f\"Epoch {epoch+1}/{epochs}, Test MSE Loss: ${avg_test_loss:.4f}\")\n",
        "\n",
        "print(\"--- Training Finished ---\")"
      ],
      "metadata": {
        "colab": {
          "base_uri": "https://localhost:8080/"
        },
        "id": "37cgbRgS4BEp",
        "outputId": "227902a0-db5c-49c9-e493-71200c152f77"
      },
      "execution_count": 90,
      "outputs": [
        {
          "output_type": "stream",
          "name": "stdout",
          "text": [
            "Starting training on cuda...\n",
            "Epoch 1/100, Test MSE Loss: $44.0938\n",
            "Epoch 2/100, Test MSE Loss: $14.5988\n",
            "Epoch 3/100, Test MSE Loss: $7.2303\n",
            "Epoch 4/100, Test MSE Loss: $4.4811\n",
            "Epoch 5/100, Test MSE Loss: $3.0567\n",
            "Epoch 6/100, Test MSE Loss: $2.3567\n",
            "Epoch 7/100, Test MSE Loss: $1.9487\n",
            "Epoch 8/100, Test MSE Loss: $1.4263\n",
            "Epoch 9/100, Test MSE Loss: $1.2054\n",
            "Epoch 10/100, Test MSE Loss: $0.9312\n",
            "Epoch 11/100, Test MSE Loss: $1.0388\n",
            "Epoch 12/100, Test MSE Loss: $0.7090\n",
            "Epoch 13/100, Test MSE Loss: $0.6126\n",
            "Epoch 14/100, Test MSE Loss: $0.8011\n",
            "Epoch 15/100, Test MSE Loss: $0.5090\n",
            "Epoch 16/100, Test MSE Loss: $0.4636\n",
            "Epoch 17/100, Test MSE Loss: $0.4340\n",
            "Epoch 18/100, Test MSE Loss: $0.4741\n",
            "Epoch 19/100, Test MSE Loss: $0.3998\n",
            "Epoch 20/100, Test MSE Loss: $0.3781\n",
            "Epoch 21/100, Test MSE Loss: $0.3525\n",
            "Epoch 22/100, Test MSE Loss: $0.3754\n",
            "Epoch 23/100, Test MSE Loss: $0.3124\n",
            "Epoch 24/100, Test MSE Loss: $0.3174\n",
            "Epoch 25/100, Test MSE Loss: $0.3034\n",
            "Epoch 26/100, Test MSE Loss: $0.2722\n",
            "Epoch 27/100, Test MSE Loss: $0.2964\n",
            "Epoch 28/100, Test MSE Loss: $0.2655\n",
            "Epoch 29/100, Test MSE Loss: $0.2726\n",
            "Epoch 30/100, Test MSE Loss: $0.2421\n",
            "Epoch 31/100, Test MSE Loss: $0.2473\n",
            "Epoch 32/100, Test MSE Loss: $0.2285\n",
            "Epoch 33/100, Test MSE Loss: $0.3028\n",
            "Epoch 34/100, Test MSE Loss: $0.3173\n",
            "Epoch 35/100, Test MSE Loss: $0.1863\n",
            "Epoch 36/100, Test MSE Loss: $0.2046\n",
            "Epoch 37/100, Test MSE Loss: $0.1803\n",
            "Epoch 38/100, Test MSE Loss: $0.1821\n",
            "Epoch 39/100, Test MSE Loss: $0.1740\n",
            "Epoch 40/100, Test MSE Loss: $0.2230\n",
            "Epoch 41/100, Test MSE Loss: $0.1717\n",
            "Epoch 42/100, Test MSE Loss: $0.1796\n",
            "Epoch 43/100, Test MSE Loss: $0.1789\n",
            "Epoch 44/100, Test MSE Loss: $0.1502\n",
            "Epoch 45/100, Test MSE Loss: $0.1532\n",
            "Epoch 46/100, Test MSE Loss: $0.1407\n",
            "Epoch 47/100, Test MSE Loss: $0.1425\n",
            "Epoch 48/100, Test MSE Loss: $0.1390\n",
            "Epoch 49/100, Test MSE Loss: $0.1640\n",
            "Epoch 50/100, Test MSE Loss: $0.1377\n",
            "Epoch 51/100, Test MSE Loss: $0.1317\n",
            "Epoch 52/100, Test MSE Loss: $0.1535\n",
            "Epoch 53/100, Test MSE Loss: $0.1952\n",
            "Epoch 54/100, Test MSE Loss: $0.1168\n",
            "Epoch 55/100, Test MSE Loss: $0.1376\n",
            "Epoch 56/100, Test MSE Loss: $0.1214\n",
            "Epoch 57/100, Test MSE Loss: $0.1284\n",
            "Epoch 58/100, Test MSE Loss: $0.1264\n",
            "Epoch 59/100, Test MSE Loss: $0.1356\n",
            "Epoch 60/100, Test MSE Loss: $0.1201\n",
            "Epoch 61/100, Test MSE Loss: $0.1241\n",
            "Epoch 62/100, Test MSE Loss: $0.1200\n",
            "Epoch 63/100, Test MSE Loss: $0.1114\n",
            "Epoch 64/100, Test MSE Loss: $0.1234\n",
            "Epoch 65/100, Test MSE Loss: $0.1155\n",
            "Epoch 66/100, Test MSE Loss: $0.1163\n",
            "Epoch 67/100, Test MSE Loss: $0.1714\n",
            "Epoch 68/100, Test MSE Loss: $0.1014\n",
            "Epoch 69/100, Test MSE Loss: $0.1711\n",
            "Epoch 70/100, Test MSE Loss: $0.0906\n",
            "Epoch 71/100, Test MSE Loss: $0.0982\n",
            "Epoch 72/100, Test MSE Loss: $0.1099\n",
            "Epoch 73/100, Test MSE Loss: $0.1068\n",
            "Epoch 74/100, Test MSE Loss: $0.0940\n",
            "Epoch 75/100, Test MSE Loss: $0.1051\n",
            "Epoch 76/100, Test MSE Loss: $0.0897\n",
            "Epoch 77/100, Test MSE Loss: $0.0948\n",
            "Epoch 78/100, Test MSE Loss: $0.0881\n",
            "Epoch 79/100, Test MSE Loss: $0.0818\n",
            "Epoch 80/100, Test MSE Loss: $0.0943\n",
            "Epoch 81/100, Test MSE Loss: $0.1014\n",
            "Epoch 82/100, Test MSE Loss: $0.0853\n",
            "Epoch 83/100, Test MSE Loss: $0.0837\n",
            "Epoch 84/100, Test MSE Loss: $0.0892\n",
            "Epoch 85/100, Test MSE Loss: $0.1023\n",
            "Epoch 86/100, Test MSE Loss: $0.0727\n",
            "Epoch 87/100, Test MSE Loss: $0.0822\n",
            "Epoch 88/100, Test MSE Loss: $0.1189\n",
            "Epoch 89/100, Test MSE Loss: $0.1162\n",
            "Epoch 90/100, Test MSE Loss: $0.0698\n",
            "Epoch 91/100, Test MSE Loss: $0.0725\n",
            "Epoch 92/100, Test MSE Loss: $0.0940\n",
            "Epoch 93/100, Test MSE Loss: $0.0798\n",
            "Epoch 94/100, Test MSE Loss: $0.0761\n",
            "Epoch 95/100, Test MSE Loss: $0.0680\n",
            "Epoch 96/100, Test MSE Loss: $0.0677\n",
            "Epoch 97/100, Test MSE Loss: $0.0702\n",
            "Epoch 98/100, Test MSE Loss: $0.1024\n",
            "Epoch 99/100, Test MSE Loss: $0.0735\n",
            "Epoch 100/100, Test MSE Loss: $0.0643\n",
            "--- Training Finished ---\n"
          ]
        }
      ]
    },
    {
      "cell_type": "markdown",
      "source": [
        "# Testing"
      ],
      "metadata": {
        "id": "7jJEsnsg830c"
      }
    },
    {
      "cell_type": "code",
      "source": [
        "import pandas as pd\n",
        "model.eval()\n",
        "\n",
        "test_cases = [\n",
        "    {\n",
        "        \"name\": \"At-the-Money (Base)\",\n",
        "        \"params\": [100.0, 100.0, 1.0, 0.05, 0.2]\n",
        "    },\n",
        "    {\n",
        "        \"name\": \"In-the-Money (ITM)\",\n",
        "        \"params\": [120.0, 100.0, 1.0, 0.05, 0.2]\n",
        "    },\n",
        "    {\n",
        "        \"name\": \"Out-of-the-Money (OTM)\",\n",
        "        \"params\": [80.0, 100.0, 1.0, 0.05, 0.2]\n",
        "    },\n",
        "    {\n",
        "        \"name\": \"High Volatility\",\n",
        "        \"params\": [100.0, 100.0, 1.0, 0.05, 0.5]\n",
        "    },\n",
        "    {\n",
        "        \"name\": \"Short Expiry (1 Month)\",\n",
        "        \"params\": [100.0, 100.0, 21/252, 0.05, 0.2]\n",
        "    },\n",
        "]\n",
        "\n",
        "results = []\n",
        "\n",
        "for case in test_cases:\n",
        "    s, k, t, r, sigma = case[\"params\"]\n",
        "\n",
        "    true_price = black_scholes(s=s, k=k, t=t, r=r, sigma=sigma)\n",
        "\n",
        "    test_params_raw = np.array([[s, k, t, r, sigma]])\n",
        "    test_params_scaled = scaler.transform(test_params_raw)\n",
        "    input_tensor = torch.tensor(test_params_scaled, dtype=torch.float32).to(device)\n",
        "\n",
        "    start_time = time.perf_counter()\n",
        "    with torch.no_grad():\n",
        "        predicted_price_tensor = model(input_tensor)\n",
        "    end_time = time.perf_counter()\n",
        "\n",
        "    predicted_price = predicted_price_tensor.cpu().item()\n",
        "    inference_time_ms = (end_time - start_time) * 1000\n",
        "\n",
        "    abs_error = abs(true_price - predicted_price)\n",
        "    pct_error = (abs_error / true_price) * 100 if true_price > 0 else 0\n",
        "\n",
        "    results.append({\n",
        "        \"Scenario\": case[\"name\"],\n",
        "        \"True Price\": f\"${true_price:.4f}\",\n",
        "        \"Predicted Price\": f\"${predicted_price:.4f}\",\n",
        "        \"Abs Error\": f\"${abs_error:.4f}\",\n",
        "        \"Pct Error\": f\"{pct_error:.2f}%\",\n",
        "        \"Inference Time (ms)\": f\"{inference_time_ms:.4f}\"\n",
        "    })\n",
        "\n",
        "results_df = pd.DataFrame(results)\n",
        "print(results_df.to_string())"
      ],
      "metadata": {
        "colab": {
          "base_uri": "https://localhost:8080/"
        },
        "id": "m7GCGd7SNCg1",
        "outputId": "c896238a-2c4c-48e0-d76f-96e059422c8b"
      },
      "execution_count": 99,
      "outputs": [
        {
          "output_type": "stream",
          "name": "stdout",
          "text": [
            "                 Scenario True Price Predicted Price Abs Error Pct Error Inference Time (ms)\n",
            "0     At-the-Money (Base)   $10.4506        $10.0644   $0.3862     3.70%              0.6236\n",
            "1      In-the-Money (ITM)  $261.6904       $263.2350   $1.5445     0.59%              0.5555\n",
            "2  Out-of-the-Money (OTM)    $1.8594         $1.7685   $0.0909     4.89%              0.4130\n",
            "3         High Volatility   $21.7926        $21.9679   $0.1753     0.80%              0.4126\n",
            "4  Short Expiry (1 Month)    $2.5121         $1.9988   $0.5132    20.43%              0.4263\n"
          ]
        }
      ]
    },
    {
      "cell_type": "code",
      "source": [
        "MODEL_PATH = \"option_pricer_model.pth\"\n",
        "torch.save(model.state_dict(), MODEL_PATH)"
      ],
      "metadata": {
        "id": "1xtavTgbOJeX"
      },
      "execution_count": 96,
      "outputs": []
    }
  ]
}